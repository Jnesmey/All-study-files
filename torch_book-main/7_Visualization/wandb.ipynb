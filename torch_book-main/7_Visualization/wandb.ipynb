{
  "cells": [
    {
      "cell_type": "code",
      "source": [
        "%pip install wandb -q\n",
        "import wandb\n",
        "wandb.login()"
      ],
      "metadata": {
        "colab": {
          "base_uri": "https://localhost:8080/"
        },
        "id": "OO-AfliyBtxk",
        "outputId": "229eeaa8-7f33-4556-b6bc-851c4027323c"
      },
      "execution_count": 28,
      "outputs": [
        {
          "output_type": "stream",
          "name": "stderr",
          "text": [
            "\u001b[34m\u001b[1mwandb\u001b[0m: \u001b[33mWARNING\u001b[0m Calling wandb.login() after wandb.init() has no effect.\n"
          ]
        },
        {
          "output_type": "execute_result",
          "data": {
            "text/plain": [
              "True"
            ]
          },
          "metadata": {},
          "execution_count": 28
        }
      ]
    },
    {
      "cell_type": "markdown",
      "source": [
        "Dataset"
      ],
      "metadata": {
        "id": "6dBkMlr-CkLy"
      }
    },
    {
      "cell_type": "code",
      "source": [
        "from torchvision import transforms\n",
        "import torchvision\n",
        "import torch\n",
        "\n",
        "# Define transforms for data preprocessing\n",
        "transform = transforms.Compose([\n",
        "    transforms.ToTensor()\n",
        "])\n",
        "\n",
        "# Datasets\n",
        "trainset = torchvision.datasets.FashionMNIST(root='./data', train=True, download=True, transform=transform)\n",
        "testset = torchvision.datasets.FashionMNIST(root='./data', train=False, download=True, transform=transform)\n",
        "\n",
        "# Dataloaders to feed the data in batches\n",
        "trainloader = torch.utils.data.DataLoader(trainset, batch_size=1000, shuffle=True, num_workers=4)\n",
        "testloader = torch.utils.data.DataLoader(testset, batch_size=100, shuffle=False, num_workers=4)\n",
        "\n",
        "print('No. of train images: {}'.format(len(trainset)))\n",
        "print('No. of test images: {}'.format(len(testset)))\n",
        "print('No. of train batches: {}'.format(len(trainloader)))\n",
        "print('No. of test batches: {}'.format(len(testloader)))"
      ],
      "metadata": {
        "colab": {
          "base_uri": "https://localhost:8080/"
        },
        "id": "PcUdRG8LBuuG",
        "outputId": "1168d28c-b4dd-44d7-f8d6-5fb1ecf0f1c9"
      },
      "execution_count": 29,
      "outputs": [
        {
          "output_type": "stream",
          "name": "stdout",
          "text": [
            "No. of train images: 60000\n",
            "No. of test images: 10000\n",
            "No. of train batches: 60\n",
            "No. of test batches: 100\n"
          ]
        },
        {
          "output_type": "stream",
          "name": "stderr",
          "text": [
            "/usr/local/lib/python3.7/dist-packages/torch/utils/data/dataloader.py:566: UserWarning: This DataLoader will create 4 worker processes in total. Our suggested max number of worker in current system is 2, which is smaller than what this DataLoader is going to create. Please be aware that excessive worker creation might get DataLoader running slow or even freeze, lower the worker number to avoid potential slowness/freeze if necessary.\n",
            "  cpuset_checked))\n"
          ]
        }
      ]
    },
    {
      "cell_type": "code",
      "source": [
        "import torch.nn as nn\n",
        "import torch.nn.functional as F\n",
        "\n",
        "class Network(nn.Module):\n",
        "    # Declaring the Architecture\n",
        "    def __init__(self):\n",
        "        super(Network,self).__init__()\n",
        "        self.fc1 = nn.Linear(28*28, 256)\n",
        "        self.fc2 = nn.Linear(256, 128)\n",
        "        self.fc3 = nn.Linear(128, 10)\n",
        " \n",
        "    # Forward Pass\n",
        "    def forward(self, x):\n",
        "        x = x.view(x.shape[0],-1)    # Flatten the images\n",
        "        x = F.relu(self.fc1(x))\n",
        "        x = F.relu(self.fc2(x))\n",
        "        x = self.fc3(x)\n",
        "        return x"
      ],
      "metadata": {
        "id": "Ro60tU29Cc3c"
      },
      "execution_count": 30,
      "outputs": []
    },
    {
      "cell_type": "code",
      "source": [
        "def train(network, epoch, criterion, optimizer, trainloader):\n",
        "    train_loss = 0.0\n",
        "    # do it!\n",
        "    acc_train = 0.0\n",
        "    for data, labels in trainloader:\n",
        "        # Transfer Data to GPU if available\n",
        "        if torch.cuda.is_available():\n",
        "            data, labels = data.cuda(), labels.cuda()\n",
        "        # Clear the gradients\n",
        "        optimizer.zero_grad()\n",
        "        # Forward Pass\n",
        "        target = network.forward(data)\n",
        "        # Find the Loss\n",
        "        loss = criterion(target, labels)\n",
        "        # Calculate gradients\n",
        "        loss.backward()\n",
        "        # Update Weights\n",
        "        optimizer.step()\n",
        "        # Calculate Loss\n",
        "        train_loss += loss.item()\n",
        "    train_loss = train_loss / len(trainloader)\n",
        "    return train_loss, acc_train"
      ],
      "metadata": {
        "id": "3-ZVpmdMOJ1r"
      },
      "execution_count": 31,
      "outputs": []
    },
    {
      "cell_type": "code",
      "source": [
        "def validate(network, epoch, criterion, testloader):\n",
        "    valid_loss = 0.0\n",
        "    acc_valid = 0.0\n",
        "    network.eval()     # Optional when not using Model Specific layer\n",
        "    for data, labels in testloader:\n",
        "        # Transfer Data to GPU if available\n",
        "        if torch.cuda.is_available():\n",
        "            data, labels = data.cuda(), labels.cuda()\n",
        "        # Forward Pass\n",
        "        target = network.forward(data)\n",
        "        # Find the Loss\n",
        "        loss = criterion(target,labels)\n",
        "        # Calculate Loss\n",
        "        valid_loss += loss.item()\n",
        "    valid_loss = valid_loss / len(trainloader)\n",
        "    return valid_loss, acc_train"
      ],
      "metadata": {
        "id": "42GezqBsOJ-e"
      },
      "execution_count": 32,
      "outputs": []
    },
    {
      "cell_type": "code",
      "source": [
        "import time\n",
        "\n",
        "device = 'cuda'\n",
        "\n",
        "# WandB Configurations (optional)        \n",
        "config = {\n",
        "  \"learning_rate\": 0.01,\n",
        "  \"epochs\": 10\n",
        "}\n",
        "\n",
        "# Initialize WandB \n",
        "wandb.init(name='test_run', \n",
        "           project='test_project',\n",
        "           notes='This is a test run', \n",
        "           tags=['Fashion MNIST', 'Test Run'],\n",
        "           entity='sadekov_rinat', config = config)\n",
        "\n",
        "network = Network().to(device)\n",
        "criterion = nn.CrossEntropyLoss()\n",
        "optimizer = torch.optim.Adam(network.parameters(), config[\"learning_rate\"])\n",
        "\n",
        "# Log the network weight histograms (optional)\n",
        "wandb.watch(network)\n",
        "\n",
        "num_epochs = config[\"epochs\"]\n",
        "start_time = time.time()\n",
        "for epoch in range(1, num_epochs+1):\n",
        "    loss_train, acc_train = train(network, epoch, criterion, optimizer, trainloader)\n",
        "    loss_valid, acc_valid = validate(network, epoch, criterion, testloader)\n",
        "    print('Epoch: {}  Train Loss: {:.4f}  Train Acc: {:.4f}  Valid Loss: {:.4f}  Valid Acc: {:.4f}'.format(epoch, loss_train, acc_train, loss_valid, acc_valid))\n",
        "    # Log the loss and accuracy values at the end of each epoch\n",
        "    wandb.log({\n",
        "        \"Epoch\": epoch,\n",
        "        \"Train Loss\": loss_train,\n",
        "        \"Train Acc\": acc_train,\n",
        "        \"Valid Loss\": loss_valid,\n",
        "        \"Valid Acc\": acc_valid})\n",
        "\n",
        "print(\"Time Elapsed : {:.4f}s\".format(time.time() - start_time))"
      ],
      "metadata": {
        "colab": {
          "base_uri": "https://localhost:8080/",
          "height": 364,
          "referenced_widgets": [
            "b84ac90674164d3187c36ccf9ff2a391",
            "9cc5b8180cdd494e80cef8a1fdc4c329",
            "5db06001753a4421abaccffa460c8b4d",
            "1c6df32a300246c2bd665f59d5cfecf0",
            "536792950c0a4ca892e1aa25995c9e86",
            "e90d490d9b0641f78d2376ee1d6a77f4",
            "df1a8225c6c54a0cb7d1387a90a56623",
            "83736ec5e63e4736972b82ad8ccd7919"
          ]
        },
        "id": "bZiuaVB5DJ9d",
        "outputId": "b164c303-90ad-4354-9850-fa045412bb20"
      },
      "execution_count": 33,
      "outputs": [
        {
          "output_type": "display_data",
          "data": {
            "text/plain": [
              "<IPython.core.display.HTML object>"
            ],
            "text/html": [
              "Finishing last run (ID:pd5pcl7v) before initializing another..."
            ]
          },
          "metadata": {}
        },
        {
          "output_type": "display_data",
          "data": {
            "text/plain": [
              "<IPython.core.display.HTML object>"
            ],
            "text/html": [
              "Waiting for W&B process to finish... <strong style=\"color:green\">(success).</strong>"
            ]
          },
          "metadata": {}
        },
        {
          "output_type": "display_data",
          "data": {
            "text/plain": [
              "VBox(children=(Label(value='0.000 MB of 0.000 MB uploaded (0.000 MB deduped)\\r'), FloatProgress(value=1.0, max…"
            ],
            "application/vnd.jupyter.widget-view+json": {
              "version_major": 2,
              "version_minor": 0,
              "model_id": "b84ac90674164d3187c36ccf9ff2a391"
            }
          },
          "metadata": {}
        },
        {
          "output_type": "display_data",
          "data": {
            "text/plain": [
              "<IPython.core.display.HTML object>"
            ],
            "text/html": [
              "Synced <strong style=\"color:#cdcd00\">test_run</strong>: <a href=\"https://wandb.ai/sadekov_rinat/test_project/runs/pd5pcl7v\" target=\"_blank\">https://wandb.ai/sadekov_rinat/test_project/runs/pd5pcl7v</a><br/>Synced 5 W&B file(s), 0 media file(s), 0 artifact file(s) and 0 other file(s)"
            ]
          },
          "metadata": {}
        },
        {
          "output_type": "display_data",
          "data": {
            "text/plain": [
              "<IPython.core.display.HTML object>"
            ],
            "text/html": [
              "Find logs at: <code>./wandb/run-20220831_185833-pd5pcl7v/logs</code>"
            ]
          },
          "metadata": {}
        },
        {
          "output_type": "display_data",
          "data": {
            "text/plain": [
              "<IPython.core.display.HTML object>"
            ],
            "text/html": [
              "Successfully finished last run (ID:pd5pcl7v). Initializing new run:<br/>"
            ]
          },
          "metadata": {}
        },
        {
          "output_type": "display_data",
          "data": {
            "text/plain": [
              "<IPython.core.display.HTML object>"
            ],
            "text/html": [
              "Tracking run with wandb version 0.13.2"
            ]
          },
          "metadata": {}
        },
        {
          "output_type": "display_data",
          "data": {
            "text/plain": [
              "<IPython.core.display.HTML object>"
            ],
            "text/html": [
              "Run data is saved locally in <code>/content/wandb/run-20220831_185958-3bziw3dq</code>"
            ]
          },
          "metadata": {}
        },
        {
          "output_type": "display_data",
          "data": {
            "text/plain": [
              "<IPython.core.display.HTML object>"
            ],
            "text/html": [
              "Syncing run <strong><a href=\"https://wandb.ai/sadekov_rinat/test_project/runs/3bziw3dq\" target=\"_blank\">test_run</a></strong> to <a href=\"https://wandb.ai/sadekov_rinat/test_project\" target=\"_blank\">Weights & Biases</a> (<a href=\"https://wandb.me/run\" target=\"_blank\">docs</a>)<br/>"
            ]
          },
          "metadata": {}
        },
        {
          "output_type": "stream",
          "name": "stdout",
          "text": [
            "Epoch: 1  Train Loss: 0.7365  Train Acc: 0.0000  Valid Loss: 0.7705  Valid Acc: 0.0000\n",
            "Epoch: 2  Train Loss: 0.3983  Train Acc: 0.0000  Valid Loss: 0.6629  Valid Acc: 0.0000\n",
            "Epoch: 3  Train Loss: 0.3481  Train Acc: 0.0000  Valid Loss: 0.6302  Valid Acc: 0.0000\n",
            "Epoch: 4  Train Loss: 0.3259  Train Acc: 0.0000  Valid Loss: 0.6355  Valid Acc: 0.0000\n",
            "Epoch: 5  Train Loss: 0.3051  Train Acc: 0.0000  Valid Loss: 0.6094  Valid Acc: 0.0000\n",
            "Epoch: 6  Train Loss: 0.2967  Train Acc: 0.0000  Valid Loss: 0.6209  Valid Acc: 0.0000\n",
            "Epoch: 7  Train Loss: 0.2908  Train Acc: 0.0000  Valid Loss: 0.5878  Valid Acc: 0.0000\n",
            "Epoch: 8  Train Loss: 0.2716  Train Acc: 0.0000  Valid Loss: 0.5843  Valid Acc: 0.0000\n",
            "Epoch: 9  Train Loss: 0.2552  Train Acc: 0.0000  Valid Loss: 0.5809  Valid Acc: 0.0000\n",
            "Epoch: 10  Train Loss: 0.2458  Train Acc: 0.0000  Valid Loss: 0.5735  Valid Acc: 0.0000\n",
            "Time Elapsed : 65.5566s\n"
          ]
        }
      ]
    }
  ],
  "metadata": {
    "colab": {
      "collapsed_sections": [],
      "provenance": []
    },
    "kernelspec": {
      "display_name": "Python 3",
      "language": "python",
      "name": "python3"
    },
    "language_info": {
      "codemirror_mode": {
        "name": "ipython",
        "version": 3
      },
      "file_extension": ".py",
      "mimetype": "text/x-python",
      "name": "python",
      "nbconvert_exporter": "python",
      "pygments_lexer": "ipython3",
      "version": "3.7.6"
    },
    "accelerator": "GPU",
    "gpuClass": "standard",
    "widgets": {
      "application/vnd.jupyter.widget-state+json": {
        "b84ac90674164d3187c36ccf9ff2a391": {
          "model_module": "@jupyter-widgets/controls",
          "model_name": "VBoxModel",
          "model_module_version": "1.5.0",
          "state": {
            "_dom_classes": [],
            "_model_module": "@jupyter-widgets/controls",
            "_model_module_version": "1.5.0",
            "_model_name": "VBoxModel",
            "_view_count": null,
            "_view_module": "@jupyter-widgets/controls",
            "_view_module_version": "1.5.0",
            "_view_name": "VBoxView",
            "box_style": "",
            "children": [
              "IPY_MODEL_9cc5b8180cdd494e80cef8a1fdc4c329",
              "IPY_MODEL_5db06001753a4421abaccffa460c8b4d"
            ],
            "layout": "IPY_MODEL_1c6df32a300246c2bd665f59d5cfecf0"
          }
        },
        "9cc5b8180cdd494e80cef8a1fdc4c329": {
          "model_module": "@jupyter-widgets/controls",
          "model_name": "LabelModel",
          "model_module_version": "1.5.0",
          "state": {
            "_dom_classes": [],
            "_model_module": "@jupyter-widgets/controls",
            "_model_module_version": "1.5.0",
            "_model_name": "LabelModel",
            "_view_count": null,
            "_view_module": "@jupyter-widgets/controls",
            "_view_module_version": "1.5.0",
            "_view_name": "LabelView",
            "description": "",
            "description_tooltip": null,
            "layout": "IPY_MODEL_536792950c0a4ca892e1aa25995c9e86",
            "placeholder": "​",
            "style": "IPY_MODEL_e90d490d9b0641f78d2376ee1d6a77f4",
            "value": "0.009 MB of 0.009 MB uploaded (0.000 MB deduped)\r"
          }
        },
        "5db06001753a4421abaccffa460c8b4d": {
          "model_module": "@jupyter-widgets/controls",
          "model_name": "FloatProgressModel",
          "model_module_version": "1.5.0",
          "state": {
            "_dom_classes": [],
            "_model_module": "@jupyter-widgets/controls",
            "_model_module_version": "1.5.0",
            "_model_name": "FloatProgressModel",
            "_view_count": null,
            "_view_module": "@jupyter-widgets/controls",
            "_view_module_version": "1.5.0",
            "_view_name": "ProgressView",
            "bar_style": "",
            "description": "",
            "description_tooltip": null,
            "layout": "IPY_MODEL_df1a8225c6c54a0cb7d1387a90a56623",
            "max": 1,
            "min": 0,
            "orientation": "horizontal",
            "style": "IPY_MODEL_83736ec5e63e4736972b82ad8ccd7919",
            "value": 1
          }
        },
        "1c6df32a300246c2bd665f59d5cfecf0": {
          "model_module": "@jupyter-widgets/base",
          "model_name": "LayoutModel",
          "model_module_version": "1.2.0",
          "state": {
            "_model_module": "@jupyter-widgets/base",
            "_model_module_version": "1.2.0",
            "_model_name": "LayoutModel",
            "_view_count": null,
            "_view_module": "@jupyter-widgets/base",
            "_view_module_version": "1.2.0",
            "_view_name": "LayoutView",
            "align_content": null,
            "align_items": null,
            "align_self": null,
            "border": null,
            "bottom": null,
            "display": null,
            "flex": null,
            "flex_flow": null,
            "grid_area": null,
            "grid_auto_columns": null,
            "grid_auto_flow": null,
            "grid_auto_rows": null,
            "grid_column": null,
            "grid_gap": null,
            "grid_row": null,
            "grid_template_areas": null,
            "grid_template_columns": null,
            "grid_template_rows": null,
            "height": null,
            "justify_content": null,
            "justify_items": null,
            "left": null,
            "margin": null,
            "max_height": null,
            "max_width": null,
            "min_height": null,
            "min_width": null,
            "object_fit": null,
            "object_position": null,
            "order": null,
            "overflow": null,
            "overflow_x": null,
            "overflow_y": null,
            "padding": null,
            "right": null,
            "top": null,
            "visibility": null,
            "width": null
          }
        },
        "536792950c0a4ca892e1aa25995c9e86": {
          "model_module": "@jupyter-widgets/base",
          "model_name": "LayoutModel",
          "model_module_version": "1.2.0",
          "state": {
            "_model_module": "@jupyter-widgets/base",
            "_model_module_version": "1.2.0",
            "_model_name": "LayoutModel",
            "_view_count": null,
            "_view_module": "@jupyter-widgets/base",
            "_view_module_version": "1.2.0",
            "_view_name": "LayoutView",
            "align_content": null,
            "align_items": null,
            "align_self": null,
            "border": null,
            "bottom": null,
            "display": null,
            "flex": null,
            "flex_flow": null,
            "grid_area": null,
            "grid_auto_columns": null,
            "grid_auto_flow": null,
            "grid_auto_rows": null,
            "grid_column": null,
            "grid_gap": null,
            "grid_row": null,
            "grid_template_areas": null,
            "grid_template_columns": null,
            "grid_template_rows": null,
            "height": null,
            "justify_content": null,
            "justify_items": null,
            "left": null,
            "margin": null,
            "max_height": null,
            "max_width": null,
            "min_height": null,
            "min_width": null,
            "object_fit": null,
            "object_position": null,
            "order": null,
            "overflow": null,
            "overflow_x": null,
            "overflow_y": null,
            "padding": null,
            "right": null,
            "top": null,
            "visibility": null,
            "width": null
          }
        },
        "e90d490d9b0641f78d2376ee1d6a77f4": {
          "model_module": "@jupyter-widgets/controls",
          "model_name": "DescriptionStyleModel",
          "model_module_version": "1.5.0",
          "state": {
            "_model_module": "@jupyter-widgets/controls",
            "_model_module_version": "1.5.0",
            "_model_name": "DescriptionStyleModel",
            "_view_count": null,
            "_view_module": "@jupyter-widgets/base",
            "_view_module_version": "1.2.0",
            "_view_name": "StyleView",
            "description_width": ""
          }
        },
        "df1a8225c6c54a0cb7d1387a90a56623": {
          "model_module": "@jupyter-widgets/base",
          "model_name": "LayoutModel",
          "model_module_version": "1.2.0",
          "state": {
            "_model_module": "@jupyter-widgets/base",
            "_model_module_version": "1.2.0",
            "_model_name": "LayoutModel",
            "_view_count": null,
            "_view_module": "@jupyter-widgets/base",
            "_view_module_version": "1.2.0",
            "_view_name": "LayoutView",
            "align_content": null,
            "align_items": null,
            "align_self": null,
            "border": null,
            "bottom": null,
            "display": null,
            "flex": null,
            "flex_flow": null,
            "grid_area": null,
            "grid_auto_columns": null,
            "grid_auto_flow": null,
            "grid_auto_rows": null,
            "grid_column": null,
            "grid_gap": null,
            "grid_row": null,
            "grid_template_areas": null,
            "grid_template_columns": null,
            "grid_template_rows": null,
            "height": null,
            "justify_content": null,
            "justify_items": null,
            "left": null,
            "margin": null,
            "max_height": null,
            "max_width": null,
            "min_height": null,
            "min_width": null,
            "object_fit": null,
            "object_position": null,
            "order": null,
            "overflow": null,
            "overflow_x": null,
            "overflow_y": null,
            "padding": null,
            "right": null,
            "top": null,
            "visibility": null,
            "width": null
          }
        },
        "83736ec5e63e4736972b82ad8ccd7919": {
          "model_module": "@jupyter-widgets/controls",
          "model_name": "ProgressStyleModel",
          "model_module_version": "1.5.0",
          "state": {
            "_model_module": "@jupyter-widgets/controls",
            "_model_module_version": "1.5.0",
            "_model_name": "ProgressStyleModel",
            "_view_count": null,
            "_view_module": "@jupyter-widgets/base",
            "_view_module_version": "1.2.0",
            "_view_name": "StyleView",
            "bar_color": null,
            "description_width": ""
          }
        }
      }
    }
  },
  "nbformat": 4,
  "nbformat_minor": 0
}